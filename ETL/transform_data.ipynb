{
 "cells": [
  {
   "cell_type": "code",
   "execution_count": 1,
   "metadata": {},
   "outputs": [],
   "source": [
    "from extract_data import run_etl\n",
    "import pandas as pd"
   ]
  },
  {
   "cell_type": "code",
   "execution_count": 2,
   "metadata": {},
   "outputs": [],
   "source": [
    "def update_names():\n",
    "    # get all dataframes as a dictionary of (df, table_name)\n",
    "    dataframes = run_etl()\n",
    "\n",
    "    # Create a dictionary to hold the dataframes\n",
    "    df_dict = {}\n",
    "    for df, table_name in dataframes:\n",
    "        df_dict[f\"df_{table_name}\"] = df\n",
    "    return df_dict"
   ]
  },
  {
   "cell_type": "code",
   "execution_count": null,
   "metadata": {},
   "outputs": [],
   "source": [
    "# Change the working directory (If this is changed, the following cells will crash because it won't find the data folder)\n",
    "import os\n",
    "\n",
    "# Define the relative path\n",
    "target_path = './../data'\n",
    "move_path = \"./../\"\n",
    "\n",
    "# Check if the directory exists before changing\n",
    "if os.path.exists(target_path):\n",
    "    os.chdir(move_path)\n",
    "    print(f\"Changed directory to: {os.getcwd()}\")\n"
   ]
  },
  {
   "cell_type": "code",
   "execution_count": 4,
   "metadata": {},
   "outputs": [],
   "source": [
    "df_dict = update_names()\n",
    "\n",
    "display_table = \"df_section\" # Change to display table"
   ]
  },
  {
   "cell_type": "code",
   "execution_count": null,
   "metadata": {},
   "outputs": [],
   "source": [
    "# Remove rows with null values across all dataframes\n",
    "df_dict[\"df_class\"].dropna(inplace=True)\n",
    "df_dict[\"df_section\"].dropna(inplace=True)\n",
    "df_dict[\"df_meeting\"].dropna(inplace=True)\n",
    "df_dict[\"df_room\"].dropna(inplace=True)\n",
    "df_dict[\"df_requisite\"].dropna(inplace=True)\n",
    "\n",
    "# Init the dataframes\n",
    "df_class = df_dict[\"df_class\"]\n",
    "df_section = df_dict[\"df_section\"]\n",
    "df_meeting = df_dict[\"df_meeting\"]\n",
    "df_room = df_dict[\"df_room\"]\n",
    "df_requisite = df_dict[\"df_requisite\"]\n",
    "\n",
    "display(df_dict[display_table])"
   ]
  },
  {
   "cell_type": "markdown",
   "metadata": {},
   "source": [
    "### 1. Ensure that classes have ID starting from 2"
   ]
  },
  {
   "cell_type": "code",
   "execution_count": null,
   "metadata": {},
   "outputs": [],
   "source": [
    "df_class[\"cid\"] = pd.to_numeric(df_class[\"cid\"], errors=\"coerce\")\n",
    "df_class.dropna(subset=[\"cid\"], inplace=True)\n",
    "df_class = df_class[df_class[\"cid\"] >= 2]\n",
    "df_section = df_section[df_section[\"cid\"] >= 2]\n",
    "\n",
    "print(f\"Length of df_section: {len(df_section)}\")"
   ]
  },
  {
   "cell_type": "markdown",
   "metadata": {},
   "source": [
    "#### 7. Sections cannot be in overcapacity, classrooms have limits.\n"
   ]
  },
  {
   "cell_type": "code",
   "execution_count": null,
   "metadata": {},
   "outputs": [],
   "source": [
    "df_section_room = df_section.merge(df_room, left_on=\"roomid\", right_on=\"rid\")\n",
    "df_section_room = df_section_room[\n",
    "    df_section_room[\"capacity_x\"] <= df_section_room[\"capacity_y\"]\n",
    "]\n",
    "df_section = df_section[df_section[\"sid\"].isin(df_section_room[\"sid\"])]\n",
    "\n",
    "print(f\"Length of df_section: {len(df_section)}\")\n"
   ]
  },
  {
   "cell_type": "markdown",
   "metadata": {},
   "source": [
    "#### 8. Courses must be taught in the correct year and correct semester."
   ]
  },
  {
   "cell_type": "code",
   "execution_count": null,
   "metadata": {},
   "outputs": [],
   "source": [
    "\n",
    "df_section_class = df_section.merge(df_class, on=\"cid\")\n",
    "years_x = pd.to_numeric(df_section_class[\"years_x\"], errors=\"coerce\")\n",
    "\n",
    "# Boolean Conditions\n",
    "First_semester = (\n",
    "    (df_section_class[\"term\"] == \"First Semester\")\n",
    "    | (df_section_class[\"term\"] == \"First Semester, Second Semester\")\n",
    ") & (df_section_class[\"semester\"] == \"Fall\")\n",
    "\n",
    "Second_semester = (\n",
    "    (df_section_class[\"term\"] == \"Second Semester\")\n",
    "    | (df_section_class[\"term\"] == \"First Semester, Second Semester\")\n",
    ") & (df_section_class[\"semester\"] == \"Spring\")\n",
    "\n",
    "According_Demand = (df_section_class[\"term\"] == \"According to Demand\") & (\n",
    "    (df_section_class[\"semester\"] == \"Fall\")\n",
    "    | (df_section_class[\"semester\"] == \"Spring\")\n",
    "    | (df_section_class[\"semester\"] == \"V1\")\n",
    "    | (df_section_class[\"semester\"] == \"V2\")\n",
    ")\n",
    "\n",
    "Even_year = (df_section_class[\"years_y\"] == \"Even Years\") & ((years_x % 2) == 0)\n",
    "Odd_year = (df_section_class[\"years_y\"] == \"Odd Years\") & ((years_x % 2) != 0)\n",
    "Every_Year = df_section_class[\"years_y\"] == \"Every Year\"\n",
    "According_Demand_Year = df_section_class[\"years_y\"] == \"According to Demand\"\n",
    "\n",
    "# Combine the boolean conditions into a single series\n",
    "combined_conditions = (First_semester | Second_semester | According_Demand) & (\n",
    "    Even_year | Odd_year | Every_Year | According_Demand_Year\n",
    ")\n",
    "\n",
    "# Ensure the combined_conditions series has the same index as df_section_class\n",
    "combined_conditions = combined_conditions.reindex(df_section_class.index)\n",
    "\n",
    "# Set pandas option to display all rows\n",
    "pd.set_option('display.max_rows', None)\n",
    "\n",
    "columns_to_display = ['semester', 'years_x', 'term', 'years_y']\n",
    "# Display rows that do NOT satisfy the combined_conditions\n",
    "display(df_section_class.loc[~combined_conditions, columns_to_display])\n",
    "\n",
    "# Reset pandas option back to the default after displaying all rows\n",
    "pd.reset_option('display.max_rows')\n",
    "\n",
    "# Filter the sections based on the combined boolean conditions\n",
    "df_section_class = df_section_class[combined_conditions]\n",
    "\n",
    "\n",
    "# Update the section dataframe\n",
    "df_section = df_section[df_section[\"sid\"].isin(df_section_class[\"sid\"])]\n",
    "# display(df_section_class)\n",
    "\n",
    "print(f\"Length of df_section: {len(df_section)}\")"
   ]
  },
  {
   "cell_type": "markdown",
   "metadata": {},
   "source": [
    "#### 2. Two sections cannot be taught at the same hour in the same classroom. \n",
    "#### 3. A class cannot have the same section, they must be taught at different hours."
   ]
  },
  {
   "cell_type": "code",
   "execution_count": null,
   "metadata": {},
   "outputs": [],
   "source": [
    "from IPython.display import display_html\n",
    "\n",
    "# Delete sections with duplicate 'sid'\n",
    "df_section = df_section.drop_duplicates(subset=[\"sid\"], keep=False)\n",
    "\n",
    "# Merge 'section' with 'meeting' to check for overlapping sections in the same room, time, and semester\n",
    "df_section_meeting = df_section.merge(df_meeting, on=\"mid\")\n",
    "\n",
    "# Convert 'starttime' and 'endtime' to time objects\n",
    "df_section_meeting[\"starttime\"] = pd.to_datetime(\n",
    "    df_section_meeting[\"starttime\"], format=\"%H:%M:%S\"\n",
    ").dt.time\n",
    "df_section_meeting[\"endtime\"] = pd.to_datetime(\n",
    "    df_section_meeting[\"endtime\"], format=\"%H:%M:%S\"\n",
    ").dt.time\n",
    "\n",
    "# Sort the dataframe by room, semester, starttime, and sid\n",
    "df_section_meeting = df_section_meeting.sort_values(\n",
    "    [\"roomid\", \"semester\", \"starttime\", \"sid\"]\n",
    ")\n",
    "\n",
    "# Detect overlapping sections (same room, same semester, same time)\n",
    "overlaps = []\n",
    "repited = []\n",
    "for (roomid, semester, starttime, cdays), group in df_section_meeting.groupby(\n",
    "    [\"roomid\", \"semester\", \"starttime\", \"cdays\"]\n",
    "):  \n",
    "    \n",
    "    for i in range(1, len(group)):\n",
    "        previous = group.iloc[i - 1]\n",
    "        current = group.iloc[i]\n",
    "\n",
    "        # Check if sections overlap in the same room, same time, and same semester\n",
    "        if (\n",
    "            current[\"starttime\"] == previous[\"starttime\"]\n",
    "            and current[\"roomid\"] == previous[\"roomid\"]\n",
    "            and current[\"semester\"] == previous[\"semester\"]\n",
    "            and current[\"years\"] == previous[\"years\"]\n",
    "            and current[\"cdays\"] == previous[\"cdays\"]\n",
    "        ):\n",
    "            # Add the section with the higher sid to the list of overlaps to delete\n",
    "            if current[\"sid\"] > previous[\"sid\"]:\n",
    "                overlaps.append(current[\"sid\"])\n",
    "            else:\n",
    "                overlaps.append(previous[\"sid\"])\n",
    "\n",
    "            repited.append(current[\"sid\"])\n",
    "            repited.append(previous[\"sid\"])\n",
    "\n",
    "\n",
    "df_overlaps = df_section_meeting[df_section_meeting[\"sid\"].isin(overlaps)]\n",
    "df_repited = df_section_meeting[df_section_meeting[\"sid\"].isin(repited)]\n",
    "\n",
    "df_repited_html = df_repited.to_html()\n",
    "df_overlaps_html = df_overlaps.to_html()\n",
    "\n",
    "# Display the two DataFrames side by side using HTML tables\n",
    "display_html(f\"<div style='display: flex; justify-content: space-around;'>\"\n",
    "             f\"<div>{df_repited_html}</div><div>{df_overlaps_html}</div></div>\", raw=True)\n",
    "# Remove overlapping sections with the higher sid\n",
    "df_section = df_section[~df_section[\"sid\"].isin(overlaps)]\n",
    "\n",
    "print(f\"Length of df_section: {len(df_section)}\")\n",
    "\n"
   ]
  },
  {
   "cell_type": "markdown",
   "metadata": {},
   "source": [
    "#### 4. Adjust 'MJ' meetings and remove overlaps\n"
   ]
  },
  {
   "cell_type": "code",
   "execution_count": null,
   "metadata": {},
   "outputs": [],
   "source": [
    "from IPython.display import display_html\n",
    "\n",
    "# Function to convert 'HH:MM:SS' format to minutes\n",
    "def convert_to_minutes(time_str):\n",
    "    hours, minutes, _ = map(int, time_str.split(':'))\n",
    "    return hours * 60 + minutes\n",
    "\n",
    "# Function to convert minutes back to 'HH:MM' format\n",
    "def convert_to_hhmm(total_minutes):\n",
    "    hours = total_minutes // 60\n",
    "    minutes = total_minutes % 60\n",
    "    return f'{hours}:{minutes:02d}' \n",
    "\n",
    "# Make a deep copy of df_meeting to preserve original data\n",
    "df_meeting_prev = df_meeting.copy(deep=True)\n",
    "\n",
    "# Convert 'starttime' and 'endtime' columns to minutes for easier manipulation\n",
    "df_meeting[['starttime', 'endtime']] = df_meeting[['starttime', 'endtime']].applymap(convert_to_minutes)\n",
    "\n",
    "# Filter out meetings on 'MJ' days between 10:15 and 12:30\n",
    "df_meeting = df_meeting[\n",
    "    ~(\n",
    "        (df_meeting['cdays'] == \"MJ\") & \n",
    "        (df_meeting['starttime'] > convert_to_minutes(\"10:15:00\")) & \n",
    "        (df_meeting['endtime'] < convert_to_minutes(\"12:30:00\"))\n",
    "    )\n",
    "]\n",
    "\n",
    "# Function to find the index of the earliest and latest class based on condition\n",
    "def find_class_index(condition):\n",
    "    try:\n",
    "        return df_meeting[condition].index[0]\n",
    "    except IndexError:\n",
    "        return -1\n",
    "\n",
    "# Find earliest and latest class times between 10:15 and 12:30 on 'MJ' days\n",
    "index_earliest_class_after_1030 = find_class_index(\n",
    "    (df_meeting['cdays'] == \"MJ\") & \n",
    "    (df_meeting['starttime'] > convert_to_minutes(\"10:15:00\")) & \n",
    "    (df_meeting['starttime'] < convert_to_minutes(\"12:30:00\"))\n",
    ")\n",
    "\n",
    "index_latest_class_before_1230 = find_class_index(\n",
    "    (df_meeting['cdays'] == \"MJ\") & \n",
    "    (df_meeting['endtime'] < convert_to_minutes(\"12:30:00\")) & \n",
    "    (df_meeting['endtime'] > convert_to_minutes(\"10:15:00\"))\n",
    ")\n",
    "\n",
    "# Adjust class timings if valid indices are found\n",
    "if index_earliest_class_after_1030 != -1:\n",
    "    delta_time = convert_to_minutes(\"12:30:00\") - df_meeting.loc[index_earliest_class_after_1030, 'starttime']\n",
    "    df_meeting.loc[(df_meeting['cdays'] == \"MJ\") & (df_meeting.index >= index_earliest_class_after_1030), ['starttime', 'endtime']] += delta_time\n",
    "\n",
    "if index_latest_class_before_1230 != -1:\n",
    "    delta_time = df_meeting.loc[index_earliest_class_after_1030, 'endtime'] - convert_to_minutes(\"10:15:00\")\n",
    "    df_meeting.loc[(df_meeting['cdays'] == \"MJ\") & (df_meeting.index <= index_latest_class_before_1230), ['starttime', 'endtime']] -= delta_time\n",
    "\n",
    "# Remove all meetings that start after 19:45\n",
    "df_meeting = df_meeting[df_meeting[\"starttime\"] <= convert_to_minutes(\"19:45:00\")]\n",
    "\n",
    "# Convert 'starttime' and 'endtime' columns back to 'HH:MM' format\n",
    "df_meeting[['starttime', 'endtime']] = df_meeting[['starttime', 'endtime']].applymap(convert_to_hhmm)\n",
    "\n",
    "# Convert 'starttime' and 'endtime' back to datetime.time format for display purposes\n",
    "df_meeting[\"starttime\"] = pd.to_datetime(df_meeting[\"starttime\"], format=\"%H:%M\").dt.time\n",
    "df_meeting[\"endtime\"] = pd.to_datetime(df_meeting[\"endtime\"], format=\"%H:%M\").dt.time\n",
    "\n",
    "# Create HTML representations of the two DataFrames for side-by-side comparison\n",
    "df_meeting_html = df_meeting.to_html()\n",
    "df_meeting_prev_html = df_meeting_prev.to_html()\n",
    "\n",
    "# Display the two DataFrames side by side using HTML tables\n",
    "display_html(f\"<div style='display: flex; justify-content: space-around;'>\"\n",
    "             f\"<div>{df_meeting_prev_html}</div><div>{df_meeting_html}</div></div>\", raw=True)\n",
    "\n",
    "print(f\"Length of df_section: {len(df_section)}\")\n"
   ]
  },
  {
   "cell_type": "markdown",
   "metadata": {},
   "source": [
    "####  5. All ‘LWV’ sections have the correct hours\n",
    "#### 6. ‘LWV’ meetings have a duration of 50 minutes; ‘MJ’ meetings have a duration of 75 minutes.\n"
   ]
  },
  {
   "cell_type": "code",
   "execution_count": null,
   "metadata": {},
   "outputs": [],
   "source": [
    "df_meeting.loc[df_meeting[\"cdays\"] == \"LWV\", \"duration\"] = 50\n",
    "df_meeting.loc[df_meeting[\"cdays\"] == \"MJ\", \"duration\"] = 75\n",
    "\n",
    "df_meeting = df_meeting[\n",
    "    (\n",
    "        (df_meeting[\"cdays\"] == \"LWV\")\n",
    "        & (\n",
    "            pd.to_datetime(df_meeting[\"endtime\"], format=\"%H:%M:%S\")\n",
    "            - pd.to_datetime(df_meeting[\"starttime\"], format=\"%H:%M:%S\")\n",
    "            == pd.Timedelta(minutes=50)\n",
    "        )\n",
    "    )\n",
    "    | (\n",
    "        (df_meeting[\"cdays\"] == \"MJ\")\n",
    "        & (\n",
    "            pd.to_datetime(df_meeting[\"endtime\"], format=\"%H:%M:%S\")\n",
    "            - pd.to_datetime(df_meeting[\"starttime\"], format=\"%H:%M:%S\")\n",
    "            == pd.Timedelta(minutes=75)\n",
    "        )\n",
    "    )\n",
    "]\n",
    "\n",
    "df_meeting.drop(columns=[\"duration\"], inplace=True)\n",
    "\n",
    "print(f\"Length of df_section: {len(df_section)}\")\n"
   ]
  },
  {
   "cell_type": "markdown",
   "metadata": {},
   "source": [
    "#### 9. Sections must be taught in a valid classroom and meeting, and the class must exist.\n"
   ]
  },
  {
   "cell_type": "code",
   "execution_count": null,
   "metadata": {},
   "outputs": [],
   "source": [
    "df_section = df_section[df_section[\"roomid\"].isin(df_room[\"rid\"])]\n",
    "df_section = df_section[df_section[\"mid\"].isin(df_meeting[\"mid\"])]\n",
    "df_section = df_section[df_section[\"cid\"].isin(df_class[\"cid\"])]\n",
    "print(f\"Length of df_section: {len(df_section)}\")\n"
   ]
  },
  {
   "cell_type": "markdown",
   "metadata": {},
   "source": [
    "#### 10. Delete all section with Dummy class as Foreign Key\n"
   ]
  },
  {
   "cell_type": "code",
   "execution_count": null,
   "metadata": {},
   "outputs": [],
   "source": [
    "dummy_class_ids = df_class[\n",
    "    df_class[\"cname\"] == \"Authorization from the Director of the Department\"\n",
    "][\"cid\"].tolist()\n",
    "\n",
    "df_section = df_section[~df_section[\"cid\"].isin(dummy_class_ids)]\n",
    "print(f\"Length of df_section: {len(df_section)}\")"
   ]
  },
  {
   "cell_type": "code",
   "execution_count": null,
   "metadata": {},
   "outputs": [],
   "source": [
    "# Dsplay Cleaned Section DataFrame\n",
    "print(f\"Length of df_section: {len(df_section)}\")\n",
    "print(f\"Length of df_class: {len(df_class)}\")\n",
    "print(f\"Length of df_meeting: {len(df_meeting)}\")\n",
    "print(f\"Length of df_room: {len(df_room)}\")\n",
    "print(f\"Length of df_requisite: {len(df_requisite)}\")\n",
    "print(f\"Total length of all dataframes: {len(df_section) + len(df_class) + len(df_meeting) + len(df_room) + len(df_requisite)}\")\n",
    "\n",
    "pd.set_option('display.max_rows', None)\n",
    "display(df_section)\n",
    "pd.reset_option('display.max_rows')\n",
    "# display(df_class)\n",
    "# display(df_meeting)\n",
    "# display(df_room)\n",
    "# display(df_requisite)\n"
   ]
  }
 ],
 "metadata": {
  "kernelspec": {
   "display_name": "venv",
   "language": "python",
   "name": "python3"
  },
  "language_info": {
   "codemirror_mode": {
    "name": "ipython",
    "version": 3
   },
   "file_extension": ".py",
   "mimetype": "text/x-python",
   "name": "python",
   "nbconvert_exporter": "python",
   "pygments_lexer": "ipython3",
   "version": "3.12.4"
  }
 },
 "nbformat": 4,
 "nbformat_minor": 2
}
