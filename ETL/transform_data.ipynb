{
 "cells": [
  {
   "cell_type": "code",
   "execution_count": 1,
   "metadata": {},
   "outputs": [],
   "source": [
    "from extract_data import run_etl\n",
    "import pandas as pd"
   ]
  },
  {
   "cell_type": "code",
   "execution_count": 2,
   "metadata": {},
   "outputs": [],
   "source": [
    "def update_names():\n",
    "    # get all dataframes as a dictionary of (df, table_name)\n",
    "    dataframes = run_etl()\n",
    "\n",
    "    # Create a dictionary to hold the dataframes\n",
    "    df_dict = {}\n",
    "    for df, table_name in dataframes:\n",
    "        df_dict[f\"df_{table_name}\"] = df\n",
    "    return df_dict"
   ]
  },
  {
   "cell_type": "code",
   "execution_count": null,
   "metadata": {},
   "outputs": [],
   "source": [
    "# Change the working directory (If this is changed, the following cells will crash because it won't find the data folder)\n",
    "import os\n",
    "\n",
    "# Define the relative path\n",
    "target_path = './../data'\n",
    "move_path = \"./../\"\n",
    "\n",
    "# Check if the directory exists before changing\n",
    "if os.path.exists(target_path):\n",
    "    os.chdir(move_path)\n",
    "    print(f\"Changed directory to: {os.getcwd()}\")\n"
   ]
  },
  {
   "cell_type": "code",
   "execution_count": 4,
   "metadata": {},
   "outputs": [],
   "source": [
    "df_dict = update_names()\n",
    "\n",
    "display_table = \"df_section\" # Change to display table"
   ]
  },
  {
   "cell_type": "code",
   "execution_count": 5,
   "metadata": {},
   "outputs": [],
   "source": [
    "# Remove rows with null values across all dataframes\n",
    "df_dict[\"df_class\"].dropna(inplace=True)\n",
    "df_dict[\"df_section\"].dropna(inplace=True)\n",
    "df_dict[\"df_meeting\"].dropna(inplace=True)\n",
    "df_dict[\"df_room\"].dropna(inplace=True)\n",
    "df_dict[\"df_requisite\"].dropna(inplace=True)"
   ]
  },
  {
   "cell_type": "code",
   "execution_count": null,
   "metadata": {},
   "outputs": [],
   "source": [
    "\n",
    "# Init the dataframes\n",
    "df_class = df_dict[\"df_class\"]\n",
    "df_section = df_dict[\"df_section\"]\n",
    "df_meeting = df_dict[\"df_meeting\"]\n",
    "df_room = df_dict[\"df_room\"]\n",
    "df_requisite = df_dict[\"df_requisite\"]\n",
    "\n",
    "display(df_dict[display_table])"
   ]
  },
  {
   "cell_type": "markdown",
   "metadata": {},
   "source": [
    "### 1. Ensure that classes have ID starting from 2"
   ]
  },
  {
   "cell_type": "code",
   "execution_count": null,
   "metadata": {},
   "outputs": [],
   "source": [
    "df_class[\"cid\"] = pd.to_numeric(df_class[\"cid\"], errors=\"coerce\")\n",
    "df_class.dropna(subset=[\"cid\"], inplace=True)\n",
    "df_class = df_class[df_class[\"cid\"] >= 2]\n",
    "df_section = df_section[df_section[\"cid\"] >= 2]\n",
    "\n",
    "display(df_dict[\"df_class\"])"
   ]
  },
  {
   "cell_type": "markdown",
   "metadata": {},
   "source": [
    "#### 2. Two sections cannot be taught at the same hour in the same classroom. \n",
    "#### 3. A class cannot have the same section, they must be taught at different hours."
   ]
  },
  {
   "cell_type": "code",
   "execution_count": null,
   "metadata": {},
   "outputs": [],
   "source": [
    "# Delete sections with duplicate 'sid'\n",
    "df_section = df_section.drop_duplicates(subset=[\"sid\"], keep=False)\n",
    "\n",
    "# Merge 'section' with 'meeting' to check for overlapping sections in the same room, time, and semester\n",
    "df_section_meeting = df_section.merge(df_meeting, on=\"mid\")\n",
    "\n",
    "# Convert 'starttime' and 'endtime' to time objects\n",
    "df_section_meeting[\"starttime\"] = pd.to_datetime(\n",
    "    df_section_meeting[\"starttime\"]\n",
    ").dt.time\n",
    "df_section_meeting[\"endtime\"] = pd.to_datetime(\n",
    "    df_section_meeting[\"endtime\"]\n",
    ").dt.time\n",
    "\n",
    "# Sort the dataframe by room, semester, starttime, and sid\n",
    "df_section_meeting = df_section_meeting.sort_values(\n",
    "    [\"roomid\", \"semester\", \"starttime\", \"sid\"]\n",
    ")\n",
    "\n",
    "# Detect overlapping sections (same room, same semester, same time)\n",
    "overlaps = []\n",
    "for (roomid, semester, starttime), group in df_section_meeting.groupby(\n",
    "    [\"roomid\", \"semester\", \"starttime\"]\n",
    "):\n",
    "    for i in range(1, len(group)):\n",
    "        previous = group.iloc[i - 1]\n",
    "        current = group.iloc[i]\n",
    "\n",
    "        # Check if sections overlap in the same room, same time, and same semester\n",
    "        if (\n",
    "            current[\"starttime\"] == previous[\"starttime\"]\n",
    "            and current[\"roomid\"] == previous[\"roomid\"]\n",
    "            and current[\"semester\"] == previous[\"semester\"]\n",
    "            and current[\"years\"] == previous[\"years\"]\n",
    "        ):\n",
    "            # Add the section with the higher sid to the list of overlaps to delete\n",
    "            if current[\"sid\"] > previous[\"sid\"]:\n",
    "                overlaps.append(current[\"sid\"])\n",
    "            else:\n",
    "                overlaps.append(previous[\"sid\"])\n",
    "\n",
    "# Remove overlapping sections with the higher sid\n",
    "df_section = df_section[~df_section[\"sid\"].isin(overlaps)]\n",
    "\n",
    "display(df_dict[\"df_section\"])"
   ]
  },
  {
   "cell_type": "markdown",
   "metadata": {},
   "source": [
    "#### 4. Adjust 'MJ' meetings and remove overlaps\n"
   ]
  },
  {
   "cell_type": "code",
   "execution_count": null,
   "metadata": {},
   "outputs": [],
   "source": [
    "df_meeting[\"starttime\"] = pd.to_datetime(df_meeting[\"starttime\"]).dt.time\n",
    "df_meeting[\"endtime\"] = pd.to_datetime(df_meeting[\"endtime\"]).dt.time\n",
    "\n",
    "# Remove all 'MJ' meetings with start time after 10:15 AM and end time before 12:30 PM\n",
    "df_meeting = df_meeting[\n",
    "    ~(\n",
    "        (df_meeting[\"cdays\"] == \"MJ\")\n",
    "        & (df_meeting[\"starttime\"] > pd.to_datetime(\"10:15\", format=\"%H:%M\").time())\n",
    "        & (df_meeting[\"endtime\"] < pd.to_datetime(\"12:30\", format=\"%H:%M\").time())\n",
    "    )\n",
    "]\n",
    "\n",
    "# Remove all meetings that start after 19:45\n",
    "df_meeting = df_meeting[\n",
    "    df_meeting[\"starttime\"] <= pd.to_datetime(\"19:45\", format=\"%H:%M\").time()\n",
    "]"
   ]
  },
  {
   "cell_type": "markdown",
   "metadata": {},
   "source": [
    "####  5. All ‘LWV’ sections have the correct hours\n"
   ]
  },
  {
   "cell_type": "code",
   "execution_count": null,
   "metadata": {},
   "outputs": [],
   "source": []
  },
  {
   "cell_type": "markdown",
   "metadata": {},
   "source": [
    "#### 6. ‘LWV’ meetings have a duration of 50 minutes; ‘MJ’ meetings have a duration of 75 minutes.\n"
   ]
  },
  {
   "cell_type": "code",
   "execution_count": 10,
   "metadata": {},
   "outputs": [],
   "source": [
    "df_meeting.loc[df_meeting[\"cdays\"] == \"LWV\", \"duration\"] = 50\n",
    "df_meeting.loc[df_meeting[\"cdays\"] == \"MJ\", \"duration\"] = 75\n",
    "\n",
    "df_meeting = df_meeting[\n",
    "    (\n",
    "        (df_meeting[\"cdays\"] == \"LWV\")\n",
    "        & (\n",
    "            pd.to_datetime(df_meeting[\"endtime\"], format=\"%H:%M:%S\")\n",
    "            - pd.to_datetime(df_meeting[\"starttime\"], format=\"%H:%M:%S\")\n",
    "            == pd.Timedelta(minutes=50)\n",
    "        )\n",
    "    )\n",
    "    | (\n",
    "        (df_meeting[\"cdays\"] == \"MJ\")\n",
    "        & (\n",
    "            pd.to_datetime(df_meeting[\"endtime\"], format=\"%H:%M:%S\")\n",
    "            - pd.to_datetime(df_meeting[\"starttime\"], format=\"%H:%M:%S\")\n",
    "            == pd.Timedelta(minutes=75)\n",
    "        )\n",
    "    )\n",
    "]\n",
    "\n",
    "df_meeting.drop(columns=[\"duration\"], inplace=True)"
   ]
  },
  {
   "cell_type": "markdown",
   "metadata": {},
   "source": [
    "#### 7. Sections cannot be in overcapacity, classrooms have limits.\n"
   ]
  },
  {
   "cell_type": "code",
   "execution_count": 11,
   "metadata": {},
   "outputs": [],
   "source": [
    "df_section_room = df_section.merge(df_room, left_on=\"roomid\", right_on=\"rid\")\n",
    "df_section_room = df_section_room[\n",
    "    df_section_room[\"capacity_x\"] <= df_section_room[\"capacity_y\"]\n",
    "]\n",
    "df_section = df_section[df_section[\"sid\"].isin(df_section_room[\"sid\"])]"
   ]
  },
  {
   "cell_type": "markdown",
   "metadata": {},
   "source": [
    "#### 8. Courses must be taught in the correct year and correct semester.\n"
   ]
  },
  {
   "cell_type": "code",
   "execution_count": null,
   "metadata": {},
   "outputs": [],
   "source": []
  },
  {
   "cell_type": "markdown",
   "metadata": {},
   "source": [
    "#### 9. Sections must be taught in a valid classroom and meeting, and the class must exist.\n"
   ]
  },
  {
   "cell_type": "code",
   "execution_count": 12,
   "metadata": {},
   "outputs": [],
   "source": [
    "df_section = df_section[df_section[\"roomid\"].isin(df_room[\"rid\"])]\n",
    "df_section = df_section[df_section[\"mid\"].isin(df_meeting[\"mid\"])]\n",
    "df_section = df_section[df_section[\"cid\"].isin(df_class[\"cid\"])]"
   ]
  },
  {
   "cell_type": "code",
   "execution_count": null,
   "metadata": {},
   "outputs": [],
   "source": [
    "# Dsplay Cleaned Section DataFrame\n",
    "display(df_section)"
   ]
  }
 ],
 "metadata": {
  "kernelspec": {
   "display_name": "venv",
   "language": "python",
   "name": "python3"
  },
  "language_info": {
   "codemirror_mode": {
    "name": "ipython",
    "version": 3
   },
   "file_extension": ".py",
   "mimetype": "text/x-python",
   "name": "python",
   "nbconvert_exporter": "python",
   "pygments_lexer": "ipython3",
   "version": "3.12.4"
  }
 },
 "nbformat": 4,
 "nbformat_minor": 2
}
