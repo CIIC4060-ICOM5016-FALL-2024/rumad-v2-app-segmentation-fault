{
 "cells": [
  {
   "cell_type": "code",
   "execution_count": null,
   "metadata": {},
   "outputs": [
    {
     "data": {
      "text/plain": [
       "<aspose.words.saving.SaveOutputParameters object at 0x0000016FB380D950>"
      ]
     },
     "execution_count": 12,
     "metadata": {},
     "output_type": "execute_result"
    }
   ],
   "source": [
    "import fitz  # PyMuPDF\n",
    "import re\n",
    "\n",
    "# Path to the PDF file\n",
    "pdf_path = \"syllabuses/CIIC-3015-Introduction-to-Computer-Programming-I.pdf\"\n",
    "\n",
    "\n",
    "def clean_text(raw_text):\n",
    "    # Remove excessive line breaks and combine multiple spaces into one\n",
    "    cleaned = re.sub(r\"\\n\\s*\\n\", \"\\n\", raw_text)  # Remove multiple newlines\n",
    "    cleaned = re.sub(r\"\\s{2,}\", \" \", cleaned)  # Replace multiple spaces with one\n",
    "\n",
    "    # Remove unnecessary leading/trailing whitespace\n",
    "    cleaned = cleaned.strip()\n",
    "\n",
    "    # Add spacing after headers like \"1.\", \"2.\", etc.\n",
    "    cleaned = re.sub(r\"(\\d+\\.)\", r\"\\n\\1 \", cleaned)\n",
    "\n",
    "    return cleaned\n",
    "\n",
    "\n",
    "# Open the PDF file\n",
    "with fitz.open(pdf_path) as doc:\n",
    "    full_text = \"\"\n",
    "    for page_number in range(len(doc)):\n",
    "        page = doc[page_number]\n",
    "        text = page.get_text()\n",
    "        full_text += f\"{text}\\n\"\n",
    "\n",
    "# Clean the extracted text\n",
    "cleaned_text = clean_text(full_text)\n",
    "\n",
    "# Save the cleaned text to a .txt file\n",
    "output_path = \"CIIC-3015-Introduction-to-Computer-Programming-I.txt\"\n",
    "with open(output_path, \"w\", encoding=\"utf-8\") as file:\n",
    "    file.write(cleaned_text)\n",
    "\n",
    "print(f\"The cleaned text has been saved to {output_path}\")"
   ]
  }
 ],
 "metadata": {
  "kernelspec": {
   "display_name": "venv",
   "language": "python",
   "name": "python3"
  },
  "language_info": {
   "codemirror_mode": {
    "name": "ipython",
    "version": 3
   },
   "file_extension": ".py",
   "mimetype": "text/x-python",
   "name": "python",
   "nbconvert_exporter": "python",
   "pygments_lexer": "ipython3",
   "version": "3.11.9"
  }
 },
 "nbformat": 4,
 "nbformat_minor": 2
}
